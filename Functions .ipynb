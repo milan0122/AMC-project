{
 "cells": [
  {
   "cell_type": "markdown",
   "id": "51813152",
   "metadata": {},
   "source": [
    "#### Functions in Python\n",
    "- Why Functions\n",
    "- Function Definition\n",
    "- Positional and keyword Arguments in Functions"
   ]
  },
  {
   "cell_type": "markdown",
   "id": "bb3617cf",
   "metadata": {},
   "source": [
    "Function helps to simply the lengthy and repeated codes by breaking into simaller components.\n",
    "It also also the same piece of code to run multiple times"
   ]
  },
  {
   "cell_type": "markdown",
   "id": "14b0c137",
   "metadata": {},
   "source": [
    "Defining the simple function:"
   ]
  },
  {
   "cell_type": "code",
   "execution_count": 2,
   "id": "cace1364",
   "metadata": {},
   "outputs": [],
   "source": [
    "def even_odd(num):\n",
    "    if num % 2 == 0:\n",
    "        print(\"The number is even\")\n",
    "    else:\n",
    "        print(\"The number is odd\")\n"
   ]
  },
  {
   "cell_type": "code",
   "execution_count": 4,
   "id": "3c61bd0a",
   "metadata": {},
   "outputs": [
    {
     "name": "stdout",
     "output_type": "stream",
     "text": [
      "The number is odd\n"
     ]
    }
   ],
   "source": [
    "even_odd(23)"
   ]
  },
  {
   "cell_type": "code",
   "execution_count": 29,
   "id": "29061503",
   "metadata": {},
   "outputs": [],
   "source": [
    "# print vs return\n",
    "def hello_world():\n",
    "    print(\"hello python developers\")"
   ]
  },
  {
   "cell_type": "code",
   "execution_count": 30,
   "id": "024ceb5b",
   "metadata": {},
   "outputs": [
    {
     "name": "stdout",
     "output_type": "stream",
     "text": [
      "hello python developers\n"
     ]
    }
   ],
   "source": [
    "hello_world()"
   ]
  },
  {
   "cell_type": "code",
   "execution_count": 31,
   "id": "596882dd",
   "metadata": {},
   "outputs": [
    {
     "name": "stdout",
     "output_type": "stream",
     "text": [
      "hello python developers\n"
     ]
    }
   ],
   "source": [
    "x = hello_world()"
   ]
  },
  {
   "cell_type": "code",
   "execution_count": 32,
   "id": "3580552c",
   "metadata": {},
   "outputs": [],
   "source": [
    "x"
   ]
  },
  {
   "cell_type": "code",
   "execution_count": 33,
   "id": "5f42e8be",
   "metadata": {},
   "outputs": [],
   "source": [
    "def hello_world():\n",
    "    return \"hello python developers\""
   ]
  },
  {
   "cell_type": "code",
   "execution_count": 34,
   "id": "f6bae399",
   "metadata": {},
   "outputs": [],
   "source": [
    "x1=hello_world()"
   ]
  },
  {
   "cell_type": "code",
   "execution_count": 15,
   "id": "6768caee",
   "metadata": {},
   "outputs": [
    {
     "data": {
      "text/plain": [
       "'hello python developers'"
      ]
     },
     "execution_count": 15,
     "metadata": {},
     "output_type": "execute_result"
    }
   ],
   "source": [
    "x1"
   ]
  },
  {
   "cell_type": "markdown",
   "id": "ff977ee4",
   "metadata": {},
   "source": [
    "From above two case: print statement use to display the final output\n",
    "    whereas return statement returns a final value of a function exectution which may be used further in the code"
   ]
  },
  {
   "cell_type": "code",
   "execution_count": 35,
   "id": "4200cdc2",
   "metadata": {},
   "outputs": [],
   "source": [
    "def add(num1,num2):\n",
    "    return num1+num2\n"
   ]
  },
  {
   "cell_type": "code",
   "execution_count": 24,
   "id": "34bd1727",
   "metadata": {},
   "outputs": [],
   "source": [
    "y=add(2,3)"
   ]
  },
  {
   "cell_type": "code",
   "execution_count": 26,
   "id": "3dd06fc1",
   "metadata": {},
   "outputs": [
    {
     "data": {
      "text/plain": [
       "5"
      ]
     },
     "execution_count": 26,
     "metadata": {},
     "output_type": "execute_result"
    }
   ],
   "source": [
    "y"
   ]
  },
  {
   "cell_type": "code",
   "execution_count": 40,
   "id": "5daaea1e",
   "metadata": {},
   "outputs": [],
   "source": [
    "#here parameter name is a positonal argument and age is keyword argument which value is in keyform\n",
    "def hello(name,age=34):\n",
    "    print(\"my name is {} and age is {}\".format(name,age))"
   ]
  },
  {
   "cell_type": "code",
   "execution_count": 42,
   "id": "2a25e779",
   "metadata": {},
   "outputs": [
    {
     "name": "stdout",
     "output_type": "stream",
     "text": [
      "my name is Milan and age is 22\n"
     ]
    }
   ],
   "source": [
    "hello('Milan')"
   ]
  },
  {
   "cell_type": "code",
   "execution_count": 44,
   "id": "03a75d78",
   "metadata": {},
   "outputs": [],
   "source": [
    "#another approach to define positonal and keyword argument\n",
    "def hello(*args,**kwargs):\n",
    "    print(args)\n",
    "    print(kwargs)"
   ]
  },
  {
   "cell_type": "code",
   "execution_count": 45,
   "id": "602e9a99",
   "metadata": {},
   "outputs": [
    {
     "name": "stdout",
     "output_type": "stream",
     "text": [
      "('Milan', 'Dangi')\n",
      "{'age': 21, 'dob': 2002}\n"
     ]
    }
   ],
   "source": [
    "hello('Milan','Dangi',age=21,dob=2002)"
   ]
  },
  {
   "cell_type": "markdown",
   "id": "6cb90c74",
   "metadata": {},
   "source": [
    "In above output you can clearly see the difference between positional and keyword argument \n"
   ]
  },
  {
   "cell_type": "code",
   "execution_count": 52,
   "id": "8b2c9922",
   "metadata": {},
   "outputs": [],
   "source": [
    "lst = ['Milan','Dangi']\n",
    "dict_args={'age':22,'dob':29}"
   ]
  },
  {
   "cell_type": "code",
   "execution_count": 53,
   "id": "956638f5",
   "metadata": {},
   "outputs": [
    {
     "name": "stdout",
     "output_type": "stream",
     "text": [
      "('Milan', 'Dangi')\n",
      "{'age': 22, 'dob': 29}\n"
     ]
    }
   ],
   "source": [
    "hello(*lst,**dict_args)"
   ]
  },
  {
   "cell_type": "code",
   "execution_count": 66,
   "id": "b72cf97a",
   "metadata": {},
   "outputs": [],
   "source": [
    "def evenoddsum(lst):\n",
    "    even_sum=0\n",
    "    odd_sum=0\n",
    "    for i in lst:\n",
    "        if i%2==0:\n",
    "            even_sum +=i\n",
    "        else:\n",
    "            odd_sum +=i\n",
    "    return even_sum,odd_sum"
   ]
  },
  {
   "cell_type": "code",
   "execution_count": 67,
   "id": "bdf4519a",
   "metadata": {},
   "outputs": [
    {
     "data": {
      "text/plain": [
       "(6, 8)"
      ]
     },
     "execution_count": 67,
     "metadata": {},
     "output_type": "execute_result"
    }
   ],
   "source": [
    "lst =[2,3,4,5]\n",
    "evenoddsum(lst)"
   ]
  },
  {
   "cell_type": "markdown",
   "id": "10399eb2",
   "metadata": {},
   "source": [
    "### Map Function in python"
   ]
  },
  {
   "cell_type": "code",
   "execution_count": 70,
   "id": "ec47155c",
   "metadata": {},
   "outputs": [],
   "source": [
    "def even_or_odd(num):\n",
    "    if num%2==0:\n",
    "        return \"The {} is Even\".format(num)\n",
    "    else:\n",
    "        return \"The {} is odd\".format(num)"
   ]
  },
  {
   "cell_type": "code",
   "execution_count": 71,
   "id": "511fcd5b",
   "metadata": {},
   "outputs": [
    {
     "data": {
      "text/plain": [
       "'The 23 is odd'"
      ]
     },
     "execution_count": 71,
     "metadata": {},
     "output_type": "execute_result"
    }
   ],
   "source": [
    "even_or_odd(23)"
   ]
  },
  {
   "cell_type": "code",
   "execution_count": 73,
   "id": "91a3c297",
   "metadata": {},
   "outputs": [],
   "source": [
    "check_lst = [2,5,7,8,34,55,23,56]"
   ]
  },
  {
   "cell_type": "code",
   "execution_count": 77,
   "id": "3ceba079",
   "metadata": {},
   "outputs": [
    {
     "data": {
      "text/plain": [
       "['The 2 is Even',\n",
       " 'The 5 is odd',\n",
       " 'The 7 is odd',\n",
       " 'The 8 is Even',\n",
       " 'The 34 is Even',\n",
       " 'The 55 is odd',\n",
       " 'The 23 is odd',\n",
       " 'The 56 is Even']"
      ]
     },
     "execution_count": 77,
     "metadata": {},
     "output_type": "execute_result"
    }
   ],
   "source": [
    "#Make an iterator that computes the function using arguments from\n",
    "#each of the iterables.\n",
    "list(map(even_or_odd,check_lst))"
   ]
  },
  {
   "cell_type": "code",
   "execution_count": 83,
   "id": "c4e84704",
   "metadata": {},
   "outputs": [],
   "source": [
    "def triple(num):\n",
    "    return num+num+num"
   ]
  },
  {
   "cell_type": "code",
   "execution_count": 84,
   "id": "9bbc6d73",
   "metadata": {},
   "outputs": [
    {
     "data": {
      "text/plain": [
       "[8, 125, 343, 512, 39304, 166375, 12167, 175616]"
      ]
     },
     "execution_count": 84,
     "metadata": {},
     "output_type": "execute_result"
    }
   ],
   "source": [
    "list(map(triple,check_lst))"
   ]
  },
  {
   "cell_type": "markdown",
   "id": "b8432704",
   "metadata": {},
   "source": [
    "# Lambda function:\n",
    " - function with no name called anonymous function"
   ]
  },
  {
   "cell_type": "code",
   "execution_count": 85,
   "id": "70b271fd",
   "metadata": {},
   "outputs": [],
   "source": [
    "addition =lambda a,b: a + b # input variables : operation\n"
   ]
  },
  {
   "cell_type": "code",
   "execution_count": 86,
   "id": "747f9962",
   "metadata": {},
   "outputs": [
    {
     "data": {
      "text/plain": [
       "5"
      ]
     },
     "execution_count": 86,
     "metadata": {},
     "output_type": "execute_result"
    }
   ],
   "source": [
    "addition (12,34)"
   ]
  },
  {
   "cell_type": "code",
   "execution_count": 91,
   "id": "e0ab55d9",
   "metadata": {},
   "outputs": [],
   "source": [
    "#adding 3 list using map and lambda function\n",
    "list1 = [3,4,5,6,7]\n",
    "list2 = [4,4,5,6,6]\n",
    "list3 = [3,2,8,9,0]\n",
    "x = map(lambda x1,x2,x3:x1+x2+x3,list1,list2,list3)"
   ]
  },
  {
   "cell_type": "code",
   "execution_count": 93,
   "id": "a4c84012",
   "metadata": {},
   "outputs": [
    {
     "data": {
      "text/plain": [
       "[10, 10, 18, 21, 13]"
      ]
     },
     "execution_count": 93,
     "metadata": {},
     "output_type": "execute_result"
    }
   ],
   "source": [
    "list(x)"
   ]
  },
  {
   "cell_type": "code",
   "execution_count": 97,
   "id": "dbdd4af4",
   "metadata": {},
   "outputs": [],
   "source": [
    "#checking even or odd value using lambda function \n",
    "even1 =lambda a:a%2==0"
   ]
  },
  {
   "cell_type": "code",
   "execution_count": 98,
   "id": "af2f10ca",
   "metadata": {},
   "outputs": [
    {
     "data": {
      "text/plain": [
       "False"
      ]
     },
     "execution_count": 98,
     "metadata": {},
     "output_type": "execute_result"
    }
   ],
   "source": [
    "even1(23)"
   ]
  },
  {
   "cell_type": "markdown",
   "id": "71cdbad2",
   "metadata": {},
   "source": [
    "# Filter Function in Python"
   ]
  },
  {
   "cell_type": "markdown",
   "id": "69823ef4",
   "metadata": {},
   "source": [
    "The filter() function in Python takes in a function and an iterable (lists, tuples, and strings) as arguments."
   ]
  },
  {
   "cell_type": "code",
   "execution_count": 104,
   "id": "7c6a5117",
   "metadata": {},
   "outputs": [],
   "source": [
    "def even(num):\n",
    "    if num%2 == 0:\n",
    "        return True"
   ]
  },
  {
   "cell_type": "code",
   "execution_count": 105,
   "id": "628a161f",
   "metadata": {},
   "outputs": [],
   "source": [
    "lst = [2,34,5,6,3,4]"
   ]
  },
  {
   "cell_type": "code",
   "execution_count": 109,
   "id": "92498258",
   "metadata": {},
   "outputs": [
    {
     "data": {
      "text/plain": [
       "[2, 34, 6, 4]"
      ]
     },
     "execution_count": 109,
     "metadata": {},
     "output_type": "execute_result"
    }
   ],
   "source": [
    "list(filter(even,lst))"
   ]
  },
  {
   "cell_type": "code",
   "execution_count": 110,
   "id": "fb6551ca",
   "metadata": {},
   "outputs": [
    {
     "data": {
      "text/plain": [
       "[2, 34, 6, 4]"
      ]
     },
     "execution_count": 110,
     "metadata": {},
     "output_type": "execute_result"
    }
   ],
   "source": [
    "list(filter(lambda x:x%2==0,lst))"
   ]
  },
  {
   "cell_type": "code",
   "execution_count": 111,
   "id": "25464291",
   "metadata": {},
   "outputs": [
    {
     "data": {
      "text/plain": [
       "[True, True, False, True, False, True]"
      ]
     },
     "execution_count": 111,
     "metadata": {},
     "output_type": "execute_result"
    }
   ],
   "source": [
    "list(map(lambda x:x%2==0,lst))"
   ]
  },
  {
   "cell_type": "markdown",
   "id": "0d4e77ba",
   "metadata": {},
   "source": [
    "here you can see the basic difference between map and filter is that\n",
    "- map function gives the ouput from the original array\n",
    "- filter function gives the output only which is true by creating a subset of original array"
   ]
  },
  {
   "cell_type": "markdown",
   "id": "fb4d13a8",
   "metadata": {},
   "source": []
  }
 ],
 "metadata": {
  "kernelspec": {
   "display_name": "Python 3 (ipykernel)",
   "language": "python",
   "name": "python3"
  },
  "language_info": {
   "codemirror_mode": {
    "name": "ipython",
    "version": 3
   },
   "file_extension": ".py",
   "mimetype": "text/x-python",
   "name": "python",
   "nbconvert_exporter": "python",
   "pygments_lexer": "ipython3",
   "version": "3.11.4"
  }
 },
 "nbformat": 4,
 "nbformat_minor": 5
}
